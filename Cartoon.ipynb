{
 "cells": [
  {
   "cell_type": "code",
   "execution_count": 17,
   "metadata": {},
   "outputs": [],
   "source": [
    "import cv2\n",
    "def cartoon(img_rgb):\n",
    "    numDownSamples = 2\n",
    "    numBilateralFilters = 2\n",
    "\n",
    "    img_color = img_rgb\n",
    "    for _ in range(numDownSamples):\n",
    "        img_color = cv2.pyrDown(img_color)\n",
    "\n",
    "    for _ in range(numBilateralFilters):\n",
    "        img_color = cv2.bilateralFilter(img_color, 5,0,0)\n",
    " \n",
    "    for _ in range(numDownSamples):\n",
    "        img_color = cv2.pyrUp(img_color)\n",
    "        \n",
    "    img_gray = cv2.cvtColor(img_rgb, cv2.COLOR_RGB2GRAY)\n",
    "    img_blur = cv2.medianBlur(img_gray, 5)\n",
    "   \n",
    "    img_edge = cv2.adaptiveThreshold(img_blur, 240,\n",
    "                                         cv2.ADAPTIVE_THRESH_MEAN_C,\n",
    "                                         cv2.THRESH_BINARY, 9, 4) \n",
    "    img_edge = cv2.cvtColor(img_edge, cv2.COLOR_GRAY2RGB)\n",
    "    return cv2.bitwise_and(img_color, img_edge)\n",
    "\n",
    "cap=cv2.VideoCapture(0)\n",
    "while(True):\n",
    "    ret,img=cap.read()\n",
    "    res= cartoon(img)\n",
    "    res=cv2.medianBlur(res,5)\n",
    "    cv2.imshow(\"Cartoon\", res)\n",
    "    if cv2.waitKey(1)==13:\n",
    "        break\n",
    "cap.release()\n",
    "cv2.destroyAllWindows()"
   ]
  },
  {
   "cell_type": "code",
   "execution_count": 19,
   "metadata": {},
   "outputs": [],
   "source": [
    "import cv2\n",
    "def cartoon(img_rgb):\n",
    "    numDownSamples = 2\n",
    "    numBilateralFilters = 2\n",
    "\n",
    "    img_color = img_rgb\n",
    "    for _ in range(numDownSamples):\n",
    "        img_color = cv2.pyrDown(img_color)\n",
    "\n",
    "    for _ in range(numBilateralFilters):\n",
    "        img_color = cv2.bilateralFilter(img_color, 5,0,0)\n",
    " \n",
    "    for _ in range(numDownSamples):\n",
    "        img_color = cv2.pyrUp(img_color)\n",
    "        \n",
    "    img_gray = cv2.cvtColor(img_rgb, cv2.COLOR_RGB2GRAY)\n",
    "    img_blur = cv2.medianBlur(img_gray, 5)\n",
    "   \n",
    "    img_edge = cv2.adaptiveThreshold(img_blur, 240,\n",
    "                                         cv2.ADAPTIVE_THRESH_MEAN_C,\n",
    "                                         cv2.THRESH_BINARY, 9, 5) \n",
    "    #cv2.imshow(\"h\",img_edge)\n",
    "    img_edge = cv2.cvtColor(img_edge, cv2.COLOR_GRAY2RGB)\n",
    "    return cv2.bitwise_and(img_color,img_edge)\n",
    "\n",
    "img=cv2.imread(\"a.png\")\n",
    "res= cartoon(img)\n",
    "res=cv2.medianBlur(res,5)\n",
    "cv2.imshow(\"Cartoon\", res)\n",
    "cv2.waitKey(0)\n",
    "cv2.destroyAllWindows()"
   ]
  }
 ],
 "metadata": {
  "kernelspec": {
   "display_name": "Python 2",
   "language": "python",
   "name": "python2"
  },
  "language_info": {
   "codemirror_mode": {
    "name": "ipython",
    "version": 2
   },
   "file_extension": ".py",
   "mimetype": "text/x-python",
   "name": "python",
   "nbconvert_exporter": "python",
   "pygments_lexer": "ipython2",
   "version": "2.7.14"
  }
 },
 "nbformat": 4,
 "nbformat_minor": 2
}
